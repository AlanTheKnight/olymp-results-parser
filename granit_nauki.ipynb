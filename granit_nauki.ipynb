{
 "cells": [
  {
   "cell_type": "code",
   "execution_count": 144,
   "metadata": {},
   "outputs": [],
   "source": [
    "import pandas as pd\n",
    "\n",
    "\n",
    "URL = \"https://ogn.spmi.ru/rezultaty-proverki-po-profilyu-informatika\"\n",
    "\n",
    "original_data: pd.DataFrame = pd.read_html(URL)[0]\n",
    "\n",
    "data = original_data.copy()  # Копируем датафрейм\n",
    "\n",
    "data.columns = data.iloc[[0]].values.flatten()  # Изменяем колонки\n",
    "\n",
    "data.drop(index=[0], axis=1, inplace=True)  # Удаляем верхнюю строку\n",
    "\n",
    "data.replace([\"-\", \"Работа аннулирована\"], [\"0\", \"0\"], inplace=True)  # Убираем лишние значения\n",
    "\n",
    "numeric_cols = [\"Класс\", \"1\", \"2\", \"3\", \"4\", \"5\", \"6\", \"Сумма\"]  # Колонки числового типа\n",
    "\n",
    "data[numeric_cols] = data[numeric_cols].apply(pd.to_numeric)  # Меняем тип\n",
    "\n",
    "data = data[(data[\"Класс\"] == 11)]  # Получаем участников 11 класса\n",
    "\n",
    "data = data.sort_values(by=\"Сумма\", ascending=False)  # Сортируем список участников\n",
    "\n",
    "data[f\"Место (/{len(data)})\"] = range(1, len(data) + 1)  # Определяем места\n",
    "\n",
    "data = data[(data[\"ФИО\"].str.contains(\"Горовиков\")) | data[\"ФИО\"].str.contains(\"Гусев\")]"
   ]
  },
  {
   "cell_type": "code",
   "execution_count": 145,
   "metadata": {},
   "outputs": [
    {
     "name": "stdout",
     "output_type": "stream",
     "text": [
      "🎉 Поздравляем с получением БВИ!\n",
      "\n"
     ]
    },
    {
     "data": {
      "text/html": [
       "<div>\n",
       "<style scoped>\n",
       "    .dataframe tbody tr th:only-of-type {\n",
       "        vertical-align: middle;\n",
       "    }\n",
       "\n",
       "    .dataframe tbody tr th {\n",
       "        vertical-align: top;\n",
       "    }\n",
       "\n",
       "    .dataframe thead th {\n",
       "        text-align: right;\n",
       "    }\n",
       "</style>\n",
       "<table border=\"1\" class=\"dataframe\">\n",
       "  <thead>\n",
       "    <tr style=\"text-align: right;\">\n",
       "      <th></th>\n",
       "      <th>ФИО</th>\n",
       "      <th>Класс</th>\n",
       "      <th>Место/форма проведения</th>\n",
       "      <th>1</th>\n",
       "      <th>2</th>\n",
       "      <th>3</th>\n",
       "      <th>4</th>\n",
       "      <th>5</th>\n",
       "      <th>6</th>\n",
       "      <th>Сумма</th>\n",
       "      <th>Примечание</th>\n",
       "      <th>Место (/351)</th>\n",
       "    </tr>\n",
       "  </thead>\n",
       "  <tbody>\n",
       "    <tr>\n",
       "      <th>99</th>\n",
       "      <td>Горовиков Николай Константинович</td>\n",
       "      <td>11</td>\n",
       "      <td>Санкт-Петербург</td>\n",
       "      <td>0</td>\n",
       "      <td>5</td>\n",
       "      <td>10</td>\n",
       "      <td>0</td>\n",
       "      <td>20</td>\n",
       "      <td>20</td>\n",
       "      <td>55</td>\n",
       "      <td>Вторая проверка</td>\n",
       "      <td>8</td>\n",
       "    </tr>\n",
       "    <tr>\n",
       "      <th>114</th>\n",
       "      <td>Гусев Максим Вадимович</td>\n",
       "      <td>11</td>\n",
       "      <td>Санкт-Петербург</td>\n",
       "      <td>0</td>\n",
       "      <td>6</td>\n",
       "      <td>7</td>\n",
       "      <td>0</td>\n",
       "      <td>20</td>\n",
       "      <td>0</td>\n",
       "      <td>33</td>\n",
       "      <td>Вторая проверка</td>\n",
       "      <td>39</td>\n",
       "    </tr>\n",
       "  </tbody>\n",
       "</table>\n",
       "</div>"
      ],
      "text/plain": [
       "                                  ФИО  Класс Место/форма проведения  1  2   3   \n",
       "99   Горовиков Николай Константинович     11        Санкт-Петербург  0  5  10  \\\n",
       "114            Гусев Максим Вадимович     11        Санкт-Петербург  0  6   7   \n",
       "\n",
       "     4   5   6  Сумма       Примечание  Место (/351)  \n",
       "99   0  20  20     55  Вторая проверка             8  \n",
       "114  0  20   0     33  Вторая проверка            39  "
      ]
     },
     "execution_count": 145,
     "metadata": {},
     "output_type": "execute_result"
    }
   ],
   "source": [
    "print(\"🎉 Поздравляем с получением БВИ!\\n\")\n",
    "\n",
    "data"
   ]
  }
 ],
 "metadata": {
  "kernelspec": {
   "display_name": ".venv",
   "language": "python",
   "name": "python3"
  },
  "language_info": {
   "codemirror_mode": {
    "name": "ipython",
    "version": 3
   },
   "file_extension": ".py",
   "mimetype": "text/x-python",
   "name": "python",
   "nbconvert_exporter": "python",
   "pygments_lexer": "ipython3",
   "version": "3.10.6"
  },
  "orig_nbformat": 4
 },
 "nbformat": 4,
 "nbformat_minor": 2
}
