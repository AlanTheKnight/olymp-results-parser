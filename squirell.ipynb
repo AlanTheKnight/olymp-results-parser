{
 "cells": [
  {
   "cell_type": "code",
   "execution_count": 38,
   "metadata": {},
   "outputs": [],
   "source": [
    "import pandas as pd\n",
    "import tabula\n",
    "\n",
    "\n",
    "original_data: list[pd.DataFrame] = tabula.read_pdf(\n",
    "    \"results/results_squirell.pdf\", pages=\"18-21\", stream=True, multiple_tables=False)\n"
   ]
  },
  {
   "cell_type": "code",
   "execution_count": 59,
   "metadata": {},
   "outputs": [
    {
     "data": {
      "text/html": [
       "<div>\n",
       "<style scoped>\n",
       "    .dataframe tbody tr th:only-of-type {\n",
       "        vertical-align: middle;\n",
       "    }\n",
       "\n",
       "    .dataframe tbody tr th {\n",
       "        vertical-align: top;\n",
       "    }\n",
       "\n",
       "    .dataframe thead th {\n",
       "        text-align: right;\n",
       "    }\n",
       "</style>\n",
       "<table border=\"1\" class=\"dataframe\">\n",
       "  <thead>\n",
       "    <tr style=\"text-align: right;\">\n",
       "      <th></th>\n",
       "      <th>ID</th>\n",
       "      <th>Score</th>\n",
       "      <th>Place (/228)</th>\n",
       "      <th>Participant</th>\n",
       "    </tr>\n",
       "  </thead>\n",
       "  <tbody>\n",
       "    <tr>\n",
       "      <th>138</th>\n",
       "      <td>ИН0002421423</td>\n",
       "      <td>70</td>\n",
       "      <td>34</td>\n",
       "      <td>Максим</td>\n",
       "    </tr>\n",
       "    <tr>\n",
       "      <th>98</th>\n",
       "      <td>ИН0002267123</td>\n",
       "      <td>62</td>\n",
       "      <td>63</td>\n",
       "      <td>Коля</td>\n",
       "    </tr>\n",
       "  </tbody>\n",
       "</table>\n",
       "</div>"
      ],
      "text/plain": [
       "               ID  Score  Place (/228) Participant\n",
       "138  ИН0002421423     70            34      Максим\n",
       "98   ИН0002267123     62            63        Коля"
      ]
     },
     "execution_count": 59,
     "metadata": {},
     "output_type": "execute_result"
    }
   ],
   "source": [
    "data = original_data[0].copy()\n",
    "\n",
    "data.drop(columns=data.columns[2:8], axis=1, inplace=True)\n",
    "data.drop(index=range(0, 4), axis=0, inplace=True)\n",
    "data.drop(columns=data.columns[0], axis=1, inplace=True)\n",
    "\n",
    "data.columns = [\"ID\", \"Score\"]\n",
    "data = data.sort_values(by=\"Score\", ascending=False)\n",
    "data[f\"Place (/{len(data)})\"] = range(1, len(data) + 1)\n",
    "\n",
    "kolya_id = \"ИН0002267123\"\n",
    "maksim_id = \"ИН0002421423\"\n",
    "\n",
    "data = data[(data[\"ID\"].str.contains(kolya_id)) | data[\"ID\"].str.contains(maksim_id)]\n",
    "\n",
    "data[\"Participant\"] = [\"Максим\", \"Коля\"]\n",
    "\n",
    "data\n"
   ]
  }
 ],
 "metadata": {
  "kernelspec": {
   "display_name": ".venv",
   "language": "python",
   "name": "python3"
  },
  "language_info": {
   "codemirror_mode": {
    "name": "ipython",
    "version": 3
   },
   "file_extension": ".py",
   "mimetype": "text/x-python",
   "name": "python",
   "nbconvert_exporter": "python",
   "pygments_lexer": "ipython3",
   "version": "3.10.6"
  },
  "orig_nbformat": 4
 },
 "nbformat": 4,
 "nbformat_minor": 2
}
